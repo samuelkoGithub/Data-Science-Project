{
  "nbformat": 4,
  "nbformat_minor": 0,
  "metadata": {
    "colab": {
      "provenance": [],
      "collapsed_sections": [],
      "include_colab_link": true
    },
    "kernelspec": {
      "name": "python3",
      "display_name": "Python 3"
    }
  },
  "cells": [
    {
      "cell_type": "markdown",
      "metadata": {
        "id": "view-in-github",
        "colab_type": "text"
      },
      "source": [
        "<a href=\"https://colab.research.google.com/github/samuelkoGithub/Data-Science-Project/blob/main/Wai_Hung%09KO_Generation_Python_Colab_Task_v0_2.ipynb\" target=\"_parent\"><img src=\"https://colab.research.google.com/assets/colab-badge.svg\" alt=\"Open In Colab\"/></a>"
      ]
    },
    {
      "cell_type": "markdown",
      "metadata": {
        "id": "hMMqMGR8OuiH"
      },
      "source": [
        "![Generation Logo](https://ikeafoundation.org/wp-content/uploads/2019/09/Generation-logo.png)\n",
        "\n",
        "# Python Screening Task 3\n",
        "\n",
        "## About these tasks\n",
        "\n",
        "These tasks are designed to challenge your python skills that you should have picked up during your Udacity course.\n",
        "\n",
        "Feel free to use google to research any topics below, however, do not copy and paste any code directly.\n",
        "\n",
        "-------\n",
        "\n",
        "# Problem 1\n",
        "\n",
        "In this problem, we will complete a function that can determine if a string is a palindrome\n",
        "\n",
        "1. Complete the function `is_palindrome`.\n",
        "1. The function `is_palindrome` should take one argument named `text`.\n",
        "1. The function `is_palindrome` should return true if the value of `text` is a palindrome, and should otherwise return false.\n",
        "\n",
        "Note:  A a **palindrome** is a word, number, phrase, or other sequence of characters which reads the same backward as forward.\n",
        "\n",
        "\n",
        "\n"
      ]
    },
    {
      "cell_type": "code",
      "metadata": {
        "id": "CWwB0hHJOsTY",
        "colab": {
          "base_uri": "https://localhost:8080/"
        },
        "outputId": "670c9697-5ecb-407a-c85a-f0622c2eaa76"
      },
      "source": [
        "def is_palindrome(text):\n",
        "  # Write your code here\n",
        "  strstr = text.casefold()  \n",
        "  \n",
        "  # Reverse the input text  \n",
        "  rev = reversed(text)  \n",
        "  \n",
        "  if list(text) == list(rev):  \n",
        "     print(text + \" is palindrome!\")  \n",
        "     result = True\n",
        "  else:  \n",
        "     print(text + \" is not palindrome!\")\n",
        "     result = False  \n",
        "\n",
        "  return result\n",
        " \n",
        "\n",
        "# Do not modify code below the code below this line\n",
        "assert is_palindrome(\"redivider\") == True\n",
        "assert is_palindrome(\"drive\") == False\n",
        "assert is_palindrome(\"kayak\") == True\n",
        "assert is_palindrome(\"11211\") == True\n",
        "assert is_palindrome(\"1115544\") == False\n"
      ],
      "execution_count": null,
      "outputs": [
        {
          "output_type": "stream",
          "name": "stdout",
          "text": [
            "redivider is palindrome!\n",
            "drive is not palindrome!\n",
            "kayak is palindrome!\n",
            "11211 is palindrome!\n",
            "1115544 is not palindrome!\n"
          ]
        }
      ]
    },
    {
      "cell_type": "markdown",
      "metadata": {
        "id": "7ofRmvj0Q5ZE"
      },
      "source": [
        "# Problem 2\n",
        "\n",
        "In this problem, we will try to complete a function that will be able to tell us how many times a word is found in a collection of sentences.\n",
        "\n",
        "1. Complete the function `find_occurrences`.\n",
        "1. The function should take two arguments `sentence_list` and `search_term`.\n",
        "1. `sentence_list` should be an array of strings\n",
        "1. `search_term` should be a string.\n",
        "1. The function should return an integer greater than or equal to zero.\n",
        "1. The number returned should be the number of occurrences of the `search_term` found within `sentence_list`\n",
        "\n",
        "You can look at the **assertions** at the bottom of the problem to see how your program is expected to perform. For example: \n",
        "\n",
        "```python\n",
        "assert find_occurrences([\"welcome to our Python program\", \"Python is my favorite language!\", \"I am afraid of Pythons\", \"I love Python\"], \"Python\") == 4\n",
        "```\n",
        "\n",
        "Using this we can see, given the list of strings and searching for `\"Python\"` we expect the function to return `4`\n"
      ]
    },
    {
      "cell_type": "code",
      "metadata": {
        "id": "sjwKUU6TyBqi"
      },
      "source": [
        "def find_occurrences(sentence_list, search_term):\n",
        "  # Write your code here\n",
        "    count = 0\n",
        "    for extractElement in sentence_list:\n",
        "        count += extractElement.count(search_term)\n",
        "            \n",
        "    return count\n",
        "\n",
        "# Do not modify code below the code below this line\n",
        "assert find_occurrences([\"welcome to our Python program\", \"Python is my favorite language!\", \"I am afraid of Pythons\", \"I love Python\"], \"Python\") == 4\n",
        "assert find_occurrences([\"this is the best day\", \"Python is the best language for learning programming\", \"I am learning\", \"I love learning\"], \"learning\") == 3\n",
        "assert find_occurrences([\"welcome\", \"language\", \"I am\", \"I love\"], \"Python\") == 0\n",
        "assert find_occurrences([\"What are you doing?\", \"you like programming?\", \"We are students\", \"We are learners\"], \"are\") == 3\n",
        "assert find_occurrences([\"welcome welcome\", \"wikipedia\", \"wonderland\", \"we\"], \"w\") == 5\n",
        "    "
      ],
      "execution_count": null,
      "outputs": []
    },
    {
      "cell_type": "markdown",
      "metadata": {
        "id": "J8LI99OzUo5_"
      },
      "source": [
        "# Problem 3\n",
        "\n",
        "In this problem, we will replace a function with an equivalent lambda function\n",
        "\n",
        "1. Create a  **lambda function** called `module_2_lambda` that does the same task as `module_2`\n",
        "1. Remove the `module_2` function \n",
        "1. Modify the assertion so that it evaluates your lambda"
      ]
    },
    {
      "cell_type": "code",
      "metadata": {
        "id": "h9rwLzlRVEDu"
      },
      "source": [
        "#def module_2(num):\n",
        "#  return num % 2\n",
        "\n",
        "#Write your code here\n",
        "def module_2_lambda(num):\n",
        "    while (num >= 2):\n",
        "          num = num - 2\n",
        "\n",
        "    return num\n",
        "\n",
        "# Do not modify the function below\n",
        "def is_a_lambda(v):\n",
        "  LAMBDA = lambda:0\n",
        "  return isinstance(v, type(LAMBDA)) and v.__name__ == LAMBDA.__name__\n",
        "\n",
        "# Modify this assertion\n",
        "assert is_a_lambda(module_2_lambda) == 0\n"
      ],
      "execution_count": null,
      "outputs": []
    },
    {
      "cell_type": "markdown",
      "metadata": {
        "id": "hQUoCwaZXO7K"
      },
      "source": [
        "# Problem 4\n",
        "\n",
        "In this problem identify the error in the following code and fix it.\n",
        "\n",
        "1. There should be a function called `increase_task_count()`"
      ]
    },
    {
      "cell_type": "code",
      "metadata": {
        "id": "z5H8nj2IXeUe",
        "colab": {
          "base_uri": "https://localhost:8080/"
        },
        "outputId": "4936c560-ebd2-4432-dc18-60e2dc9fd0f9"
      },
      "source": [
        "# Global Scope for variable task_count\n",
        "task_count = 6\n",
        "\n",
        "def increase_task_count():\n",
        "  if (task_count == 6):\n",
        "    print(task_count)\n",
        "\n",
        "increase_task_count()\n",
        "\n",
        "# Do not modify below the code below this line\n",
        "assert task_count == 6\n"
      ],
      "execution_count": null,
      "outputs": [
        {
          "output_type": "stream",
          "name": "stdout",
          "text": [
            "6\n"
          ]
        }
      ]
    },
    {
      "cell_type": "markdown",
      "metadata": {
        "id": "ohrCHdZdZBAW"
      },
      "source": [
        "# Problem 5\n",
        "\n",
        "In this problem, we have a function that performs a division operation, but it crashes when dividing by zero.\n",
        "\n",
        "1. Modify the following function to catch and handle the ZeroDivisionError"
      ]
    },
    {
      "cell_type": "code",
      "metadata": {
        "id": "C82xAvPaZAhq"
      },
      "source": [
        "def divide(divisor, dividend):\n",
        "  errDetect = False\n",
        "  # Use try...except block to detect the ZeroDivisionError\n",
        "  try:\n",
        "    result = dividend / divisor\n",
        "  except ZeroDivisionError:\n",
        "    errDetect = True\n",
        "\n",
        "  if (errDetect):\n",
        "    # Detected the input divisor is zero\n",
        "    return \"Division by zero not allowed\"\n",
        "  else:\n",
        "    # Divisor is non zero\n",
        "    return (dividend / divisor)\n",
        "\n",
        "# Do not modify below the code below this line\n",
        "assert divide(0, 10) == \"Division by zero not allowed\"\n"
      ],
      "execution_count": null,
      "outputs": []
    },
    {
      "cell_type": "markdown",
      "metadata": {
        "id": "pBF69dkMahl6"
      },
      "source": [
        "# Problem 6\n",
        "\n",
        "In this problem, someone has written some code using the NumPy library, but has not imported the library correctly.\n",
        "\n",
        "1. Import the NumPy library to be able to run the code.\n"
      ]
    },
    {
      "cell_type": "code",
      "metadata": {
        "id": "tCRYhs3Oao2D"
      },
      "source": [
        "import numpy as np\n",
        "\n",
        "arrange = np.arange(15).reshape(3, 5)\n",
        "\n",
        "# Do not modify below the code below this line\n",
        "assert np.allclose(arrange, [[0,1,2,3,4],[5,6,7,8,9],[10,11,12,13,14]]) ==  True\n"
      ],
      "execution_count": null,
      "outputs": []
    }
  ]
}